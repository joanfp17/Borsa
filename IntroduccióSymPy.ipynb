{
 "cells": [
  {
   "cell_type": "markdown",
   "metadata": {},
   "source": [
    "# Symbolic Python (SymPy)"
   ]
  },
  {
   "cell_type": "markdown",
   "metadata": {},
   "source": [
    "## Notebooks"
   ]
  },
  {
   "cell_type": "markdown",
   "metadata": {},
   "source": [
    "Les cel·les de codi permeten escriure i executar sentències i petits programes.\n",
    "Executeu una cel·la de codi mitjançant *Shift-Enter* o prement el botó $\\blacktriangleright$ de la barra d'eines."
   ]
  },
  {
   "cell_type": "code",
   "execution_count": 61,
   "metadata": {},
   "outputs": [
    {
     "data": {
      "text/plain": [
       "10"
      ]
     },
     "execution_count": 61,
     "metadata": {},
     "output_type": "execute_result"
    }
   ],
   "source": [
    "x = 10\n",
    "x"
   ]
  },
  {
   "cell_type": "markdown",
   "metadata": {},
   "source": [
    "Hi ha una altra manera d'executar codi:\n",
    "* *Alt-Enter* executa la cel·la i en crea una de nova a sota"
   ]
  },
  {
   "cell_type": "code",
   "execution_count": 62,
   "metadata": {},
   "outputs": [
    {
     "data": {
      "text/plain": [
       "20"
      ]
     },
     "execution_count": 62,
     "metadata": {},
     "output_type": "execute_result"
    }
   ],
   "source": [
    "y = 2\n",
    "x*y"
   ]
  },
  {
   "cell_type": "code",
   "execution_count": null,
   "metadata": {
    "collapsed": true
   },
   "outputs": [],
   "source": []
  },
  {
   "cell_type": "markdown",
   "metadata": {},
   "source": [
    "El codi s'executa en un procés separat anomenat IPython Kernel. Podem interrompre el Kernel o reinicialitzar-lo sempre que ho considerem convenient. Per exemple executeu el programa següent i premeu el botó $\\blacksquare$."
   ]
  },
  {
   "cell_type": "code",
   "execution_count": 9,
   "metadata": {},
   "outputs": [
    {
     "ename": "KeyboardInterrupt",
     "evalue": "",
     "output_type": "error",
     "traceback": [
      "\u001b[0;31m---------------------------------------------------------------------------\u001b[0m",
      "\u001b[0;31mKeyboardInterrupt\u001b[0m                         Traceback (most recent call last)",
      "\u001b[0;32m<ipython-input-9-d7b436e260d5>\u001b[0m in \u001b[0;36m<module>\u001b[0;34m()\u001b[0m\n\u001b[1;32m      1\u001b[0m \u001b[1;32mimport\u001b[0m \u001b[0mtime\u001b[0m\u001b[1;33m\u001b[0m\u001b[0m\n\u001b[0;32m----> 2\u001b[0;31m \u001b[0mtime\u001b[0m\u001b[1;33m.\u001b[0m\u001b[0msleep\u001b[0m\u001b[1;33m(\u001b[0m\u001b[1;36m10\u001b[0m\u001b[1;33m)\u001b[0m\u001b[1;33m\u001b[0m\u001b[0m\n\u001b[0m",
      "\u001b[0;31mKeyboardInterrupt\u001b[0m: "
     ]
    }
   ],
   "source": [
    "import time\n",
    "time.sleep(10)"
   ]
  },
  {
   "cell_type": "markdown",
   "metadata": {},
   "source": [
    "Tots els resultats es mostren de forma asíncrona, tal i com es van generant en el Kernel. Si executeu la cel·la següent veureu com els nombres van sortint paulatinament, no tots al final."
   ]
  },
  {
   "cell_type": "code",
   "execution_count": 10,
   "metadata": {},
   "outputs": [
    {
     "name": "stdout",
     "output_type": "stream",
     "text": [
      "0\n",
      "1\n",
      "2\n",
      "3\n",
      "4\n",
      "5\n",
      "6\n",
      "7\n"
     ]
    }
   ],
   "source": [
    "for i in range(8):\n",
    "    print(i)\n",
    "    time.sleep(0.5)"
   ]
  },
  {
   "cell_type": "markdown",
   "metadata": {},
   "source": [
    "Els resultats voluminosos o llargs es gestionen millor col·lapsant l'àrea on han aparegut. Executa la cel·la següent i després fes click un o dos cops sobre l'àrea activa a l'esquerra del resultat:"
   ]
  },
  {
   "cell_type": "code",
   "execution_count": 14,
   "metadata": {
    "collapsed": true
   },
   "outputs": [
    {
     "name": "stdout",
     "output_type": "stream",
     "text": [
      "0\n",
      "1\n",
      "2\n",
      "3\n",
      "4\n",
      "5\n",
      "6\n",
      "7\n",
      "8\n",
      "9\n",
      "10\n",
      "11\n",
      "12\n",
      "13\n",
      "14\n",
      "15\n",
      "16\n",
      "17\n",
      "18\n",
      "19\n",
      "20\n",
      "21\n",
      "22\n",
      "23\n",
      "24\n",
      "25\n",
      "26\n",
      "27\n",
      "28\n",
      "29\n",
      "30\n",
      "31\n",
      "32\n",
      "33\n",
      "34\n",
      "35\n",
      "36\n",
      "37\n",
      "38\n",
      "39\n",
      "40\n",
      "41\n",
      "42\n",
      "43\n",
      "44\n",
      "45\n",
      "46\n",
      "47\n",
      "48\n",
      "49\n"
     ]
    }
   ],
   "source": [
    "for i in range(50):\n",
    "    print(i)"
   ]
  },
  {
   "cell_type": "markdown",
   "metadata": {},
   "source": [
    "Podem eliminar variables amb *%reset_selective* nom_variable o amb *%reset* que les elimina totes"
   ]
  },
  {
   "cell_type": "code",
   "execution_count": 65,
   "metadata": {},
   "outputs": [
    {
     "name": "stdout",
     "output_type": "stream",
     "text": [
      "Once deleted, variables cannot be recovered. Proceed (y/[n])?  y\n"
     ]
    }
   ],
   "source": [
    "%reset_selective x"
   ]
  },
  {
   "cell_type": "code",
   "execution_count": 60,
   "metadata": {},
   "outputs": [
    {
     "name": "stdout",
     "output_type": "stream",
     "text": [
      "Once deleted, variables cannot be recovered. Proceed (y/[n])? y\n"
     ]
    }
   ],
   "source": [
    "%reset"
   ]
  },
  {
   "cell_type": "markdown",
   "metadata": {},
   "source": [
    "Si tenim dubtes sobre una comanda podem utilitzar la instrucció comanda*?*"
   ]
  },
  {
   "cell_type": "code",
   "execution_count": 70,
   "metadata": {
    "collapsed": true
   },
   "outputs": [],
   "source": [
    "reset?"
   ]
  },
  {
   "cell_type": "markdown",
   "metadata": {},
   "source": [
    "## Python bàsic"
   ]
  },
  {
   "cell_type": "markdown",
   "metadata": {},
   "source": [
    "### Literals, expressions i variables"
   ]
  },
  {
   "cell_type": "markdown",
   "metadata": {},
   "source": [
    "El nostre programa haurà de manejar moltes peces d'informació. Com a punt de partida, es distingeix entre tres tipus  de valors:\n",
    "\n",
    "**Integer**: nombres enters, per exemple '5'  \n",
    "**Float**: nombres decimals, per exemple '5.3'  \n",
    "**Boolean**: nombres binaris, codificats com a True o False  \n",
    "\n",
    "Aquestes representacions de valors es denominen **literals**, ja que posen, literalment, en el programa el valor que es desitja.\n",
    "\n",
    "Més comunament, però, els valors estan implícits en les expressions que avaluen a un valor. Per exemple, '5 + 3' no representa el nombre 8, literalment, però si s'executa, avaluarà a 8. Per tant, una **expressió** és qualsevol peça de codi que representa un valor.\n",
    "\n",
    "Molts valors canvien durant l'execució d'un programa mentre que conserven el mateix significat; o, podrien repetir-se tantes vegades al llarg del programa que és més convenient representar-los per un nom simbòlic al seu lloc. Per això, tenim les **variables** que tenen un nom fix, i un valor que no és fix. Per assignar un valor a una variable, utilitzeu la següent sintaxi:\n",
    "\n",
    "*nom = valor*\n",
    "\n",
    "Per veure després el valor de la variable podeu fer:\n",
    "\n",
    "*print(nom)*\n",
    "\n",
    "Com que per ara estem tenint en compte tres tipus de valors (integer, float, boolean), també tenim tres tipus de variables. A diferència d'altres llenguatges de programació, Python no requereix definir el tipus d'una variable; Python se l'imagina a partir dels valors que s'assignen. Per inspeccionar el tipus de qualsevol variable una vegada que ha estat assignada, feu:\n",
    "\n",
    "*print(type(nom))*"
   ]
  },
  {
   "cell_type": "code",
   "execution_count": 2,
   "metadata": {},
   "outputs": [
    {
     "name": "stdout",
     "output_type": "stream",
     "text": [
      "5\n",
      "<class 'int'>\n",
      "5.0\n",
      "<class 'float'>\n",
      "False\n",
      "<class 'bool'>\n",
      "10.0 <class 'float'>\n",
      "15.0\n",
      "46.15384615384615\n"
     ]
    }
   ],
   "source": [
    "# Assign values to the three variable types\n",
    "# Here, we simply assign a literal\n",
    "my_int = 5\n",
    "print(my_int)\n",
    "print(type(my_int))\n",
    "\n",
    "my_float = 5.0\n",
    "print(my_float)\n",
    "print(type(my_float))\n",
    "\n",
    "my_boolean = False\n",
    "print(my_boolean)\n",
    "print(type(my_boolean))\n",
    "\n",
    "# Simple expression\n",
    "summed_numbers = my_int + my_float\n",
    "print(summed_numbers, type(summed_numbers))\n",
    "\n",
    "# Re-assign a variable using an expression involving its own value\n",
    "my_float = my_float * 3\n",
    "print(my_float)\n",
    "\n",
    "# A more complex expression\n",
    "result = ((my_float-3)*my_int)/1.3\n",
    "print(result)"
   ]
  },
  {
   "cell_type": "markdown",
   "metadata": {},
   "source": [
    "### Instruccions i flux de programa"
   ]
  },
  {
   "cell_type": "markdown",
   "metadata": {},
   "source": [
    "Un programa consisteix típicament en una seqüència de línies curtes, cadascuna de les quals fa alguna cosa. Cada una d'aquestes línies de codi que fa alguna cosa s'anomena una **instrucció o sentència**.\n",
    "\n",
    "Abans, hem utilitzat les **instruccions d'assignació** per assignar valors a les variables, i les **instruccions d'impressió** per imprimir els valors de variables a la pantalla.\n",
    "\n",
    "Si volem, però, que el nostre programa sigui alguna cosa més que una calculadora, necessitem un **flux de programa** automatitzat. Per aconseguir-ho hi ha dos tipus de sentències d'importància fonamental: condicionals i iteratives.\n",
    "\n",
    "La **instrucció condicional** bàsica és la sentència *if*, que només executa el següent bloc d'instruccions si és seguit per una expressió que s'avalua com a True. Per exemple:"
   ]
  },
  {
   "cell_type": "code",
   "execution_count": 4,
   "metadata": {},
   "outputs": [
    {
     "name": "stdout",
     "output_type": "stream",
     "text": [
      "1\n"
     ]
    }
   ],
   "source": [
    "a = 1\n",
    "b = 2\n",
    "\n",
    "if True:\n",
    "    print(a)  \n",
    "\n",
    "if False:\n",
    "    print(b)"
   ]
  },
  {
   "cell_type": "markdown",
   "metadata": {},
   "source": [
    "**Fixeu-vos en els : al final de la instrucció *if* i en que el block de codi condicional va indentat, preferiblement amb 4 espais. Ambdues coses són necessaries en Python**."
   ]
  },
  {
   "cell_type": "markdown",
   "metadata": {},
   "source": [
    "Per descomptat que aquest codi és bastant inútil, ja que sabem que el valor condicional sempre serà True o False. També podem reemplaçar la condició per una expressió que avalui a un valor lògic."
   ]
  },
  {
   "cell_type": "code",
   "execution_count": 5,
   "metadata": {},
   "outputs": [
    {
     "name": "stdout",
     "output_type": "stream",
     "text": [
      "1\n",
      "2\n",
      "5\n"
     ]
    }
   ],
   "source": [
    "a = 1\n",
    "b = 2\n",
    "c = 3\n",
    "\n",
    "if a > 0:\n",
    "    print(a)\n",
    "    \n",
    "elif b == 2: \n",
    "    # Execute if b equals 2\n",
    "    # ...but ONLY if the first condition was False\n",
    "    # Note the difference with the assignment symbol =\n",
    "    print(b)  \n",
    "    \n",
    "elif c <= 3:  \n",
    "    # Execute if c is smaller than or equal to 3\n",
    "    # ...but ONLY if the first two conditions were False\n",
    "    print(c) \n",
    "    \n",
    "else:      \n",
    "    # Execute in any case\n",
    "    # But ONLY if all others were False\n",
    "    print(4)      \n",
    "\n",
    "    \n",
    "if b >= 0:    \n",
    "    # Execute if b is greater than or equal to 0\n",
    "    # A new if-statement, evaluated independent of previous conditions\n",
    "    print(b)   \n",
    "    \n",
    "    \n",
    "# This statement is not indented\n",
    "# ...and will therefore always execute\n",
    "print(5)"
   ]
  },
  {
   "cell_type": "markdown",
   "metadata": {},
   "source": [
    "Ara hem començat realment a programar!. A continuació, ens cal una **instrucció iterativa** que pugui tornar a executar sentències sense que haguem de seguir introduint-les literalment en el programa.\n",
    "\n",
    "El tipus més bàsic és la sentència *while*, que executa repetidament el seu bloc de codi mentre la seva expressió condicional avalua com a True."
   ]
  },
  {
   "cell_type": "code",
   "execution_count": 7,
   "metadata": {},
   "outputs": [
    {
     "name": "stdout",
     "output_type": "stream",
     "text": [
      "1\n",
      "2\n",
      "3\n",
      "4\n",
      "5\n"
     ]
    }
   ],
   "source": [
    "# Instead of this:\n",
    "a = 1\n",
    "print(a)\n",
    "a = a + 1\n",
    "print(a)\n",
    "a = a + 1\n",
    "print(a)\n",
    "a = a + 1\n",
    "print(a)\n",
    "a = a + 1\n",
    "print(a)\n",
    "\n",
    "# (copy-paste as many times as you need...)"
   ]
  },
  {
   "cell_type": "code",
   "execution_count": 9,
   "metadata": {},
   "outputs": [
    {
     "name": "stdout",
     "output_type": "stream",
     "text": [
      "1\n",
      "2\n",
      "3\n",
      "4\n",
      "5\n"
     ]
    }
   ],
   "source": [
    "# We can write much shorter and far more flexibly:\n",
    "a = 1\n",
    "maximum_number = 5\n",
    "\n",
    "while a <= maximum_number:\n",
    "    print(a)\n",
    "    a = a + 1"
   ]
  },
  {
   "cell_type": "markdown",
   "metadata": {},
   "source": [
    "Per aturar el bucle *while* en qualsevol moment, utilitzeu la sentència *break*."
   ]
  },
  {
   "cell_type": "code",
   "execution_count": 11,
   "metadata": {},
   "outputs": [
    {
     "name": "stdout",
     "output_type": "stream",
     "text": [
      "1\n",
      "2\n",
      "3\n",
      "4\n",
      "5\n"
     ]
    }
   ],
   "source": [
    "# Not as optimal as the above code\n",
    "a = 1\n",
    "maximum_number = 5\n",
    "\n",
    "while True:\n",
    "    print(a)\n",
    "    a = a + 1\n",
    "    if a > maximum_number:\n",
    "        break"
   ]
  },
  {
   "cell_type": "code",
   "execution_count": null,
   "metadata": {
    "collapsed": true
   },
   "outputs": [],
   "source": []
  },
  {
   "cell_type": "markdown",
   "metadata": {},
   "source": [
    "### Cadenes de caràcters i llistes"
   ]
  },
  {
   "cell_type": "markdown",
   "metadata": {},
   "source": [
    "Introduïm ara dos tipus de variables més complexes, les cadenes de caràcters (**string**) i les llistes (**list**), que representen sèries ordenades de valors. Ambdues disposen d'una manera de seber-ne la seva longitud, *len()*."
   ]
  },
  {
   "cell_type": "code",
   "execution_count": 12,
   "metadata": {},
   "outputs": [
    {
     "name": "stdout",
     "output_type": "stream",
     "text": [
      "a line of text\n",
      "<class 'str'>\n",
      "14\n"
     ]
    }
   ],
   "source": [
    "# A string represents an ordered series of characters\n",
    "my_string = \"a line of text\"\n",
    "my_string = 'a line of text'\n",
    "\n",
    "print(my_string)\n",
    "print(type(my_string))\n",
    "print(len(my_string))"
   ]
  },
  {
   "cell_type": "code",
   "execution_count": 17,
   "metadata": {},
   "outputs": [
    {
     "name": "stdout",
     "output_type": "stream",
     "text": [
      "[True, 'a string!', [1, 'list', 'in', 1, 'list']]\n",
      "<class 'list'>\n",
      "3\n"
     ]
    }
   ],
   "source": [
    "# A tuple is an ordered series of values\n",
    "# ... but these values may consist of different data types\n",
    "my_list = [True, \"a string!\", [1,'list','in', 1, 'list']] \n",
    "\n",
    "print(my_list)\n",
    "print(type(my_list))\n",
    "print(len(my_list))"
   ]
  },
  {
   "cell_type": "markdown",
   "metadata": {},
   "source": [
    "Per recuperar un elements, s'utilitzen claudàtors: *[n]* va a recuperar l'element n-èsim, on l'índex de recompte comença a **0**.\n",
    "\n",
    "Així com les llistes poden modificar-se un cop assignats els seus elements, les cadenes de caràcters no poden ser modificades, llevat de ser reasignades complertament. "
   ]
  },
  {
   "cell_type": "code",
   "execution_count": 15,
   "metadata": {},
   "outputs": [
    {
     "name": "stdout",
     "output_type": "stream",
     "text": [
      "kumbaya, milord\n",
      "k\n",
      "kumb\n",
      "r\n",
      "ilor\n",
      "ilord\n",
      "drolim ,a\n",
      "kbamo\n"
     ]
    }
   ],
   "source": [
    "a = \"kumbaya, milord\"\n",
    "print(a)\n",
    "\n",
    "# Fetch and print the first element of a string\n",
    "print(a[0])\n",
    "\n",
    "# Fetch the first until, but not including, the fifth element\n",
    "# This is called 'slicing'\n",
    "print(a[0:4])\n",
    "\n",
    "# -1 is the index of the last element\n",
    "# -2 of the second-to-last, etc\n",
    "print(a[-2])\n",
    "print(a[-5:-1])\n",
    "print(a[-5:])\n",
    "\n",
    "# Reverse the order or change step size\n",
    "# Syntax: [start:end:step]\n",
    "print(a[-1:-10:-1])\n",
    "print(a[0::3])"
   ]
  },
  {
   "cell_type": "code",
   "execution_count": 16,
   "metadata": {},
   "outputs": [
    {
     "name": "stdout",
     "output_type": "stream",
     "text": [
      "[1, 2.0, True]\n",
      "[1, 'foo', True]\n",
      "[True, 'foo', 1]\n"
     ]
    }
   ],
   "source": [
    "# The same applies to lists\n",
    "b = [1, 2.0, True]\n",
    "print(b)\n",
    "\n",
    "# In lists, you can change existing elements\n",
    "# Change the second element in a list\n",
    "b[1] = 'foo'\n",
    "print(b)\n",
    "\n",
    "# Print the elements in reverse\n",
    "print(b[::-1])"
   ]
  },
  {
   "cell_type": "code",
   "execution_count": 20,
   "metadata": {},
   "outputs": [
    {
     "name": "stdout",
     "output_type": "stream",
     "text": [
      "kumbaya, milord\n",
      "kumbaya, milord!!!\n",
      "kumbaya, milord\n",
      "kumbaya, milordkumbaya, milord\n",
      "[1, 2.0, True, 5]\n",
      "[1, 2.0, True, 1, 2.0, True]\n",
      "[1, 2.0, True]\n",
      "[1, 2.0, True, 5]\n"
     ]
    }
   ],
   "source": [
    "# '+' performs concatenation on strings and lists\n",
    "# Since we do not re-assign the result to a variable however\n",
    "# ...nothing changes in the original ordered series\n",
    "\n",
    "a = \"kumbaya, milord\"\n",
    "print(a)\n",
    "print(a + '!!!')\n",
    "print(a)\n",
    "\n",
    "# Similarly, '*' performs replication of the entire string\n",
    "print(a * 2)\n",
    "\n",
    "# For a list\n",
    "b = [1, 2.0, True]\n",
    "print(b + [5])\n",
    "print(b * 2)\n",
    "print(b)\n",
    "\n",
    "# By re-assigning, we do change the list\n",
    "b = b + [5]\n",
    "print(b)"
   ]
  },
  {
   "cell_type": "markdown",
   "metadata": {},
   "source": [
    "Una eina útil és també la ***in* keyword**, que avalua a un booleà en funció de que un element estigui o no present en la llista o la cadena de caràcters."
   ]
  },
  {
   "cell_type": "code",
   "execution_count": 22,
   "metadata": {},
   "outputs": [
    {
     "name": "stdout",
     "output_type": "stream",
     "text": [
      "False\n",
      "False\n",
      "True\n"
     ]
    }
   ],
   "source": [
    "# String\n",
    "a = 'example'\n",
    "result = 'i' in a\n",
    "print(result)\n",
    "\n",
    "# List\n",
    "c = [1,2,3]\n",
    "print(5 in c)\n",
    "print(2 in c)"
   ]
  },
  {
   "cell_type": "markdown",
   "metadata": {},
   "source": [
    "### Més flux de programa"
   ]
  },
  {
   "cell_type": "markdown",
   "metadata": {},
   "source": [
    "El següent ingredient bàsic que afegirem és la **instrucció iterativa** *for...in...* que ens permet córrer a través de cada element d'una sèrie ordenada, i executar-hi sentències en ells."
   ]
  },
  {
   "cell_type": "code",
   "execution_count": 23,
   "metadata": {},
   "outputs": [
    {
     "name": "stdout",
     "output_type": "stream",
     "text": [
      "h\n",
      "i\n",
      "!\n",
      "h\n",
      "i\n",
      "!\n"
     ]
    }
   ],
   "source": [
    "# Without the for-syntax, we could do it like this\n",
    "a = 'hi!'\n",
    "n = 0\n",
    "while n < len(a):\n",
    "    print(a[n])\n",
    "    n = n + 1\n",
    "    \n",
    "# With the for-syntax, this becomes much more intuitive \n",
    "a = 'hi!'\n",
    "for letter in a:\n",
    "    print(letter)"
   ]
  },
  {
   "cell_type": "markdown",
   "metadata": {},
   "source": [
    "Un instrument final, brutal en el control de flux del programa, és l'**excepció**, també coneguda com: error. Els errors no són només una molèstia, per als programadors, en realitat són útils, ja que permeten sortir del programa en qualsevol punt creant (*raise*) una excepció i indicant a l'usuari el que ha sortit malament."
   ]
  },
  {
   "cell_type": "code",
   "execution_count": 24,
   "metadata": {},
   "outputs": [
    {
     "ename": "Exception",
     "evalue": "Your dog cannot have a negative number of paws!",
     "output_type": "error",
     "traceback": [
      "\u001b[0;31m---------------------------------------------------------------------------\u001b[0m",
      "\u001b[0;31mException\u001b[0m                                 Traceback (most recent call last)",
      "\u001b[0;32m<ipython-input-24-3ff8bcb3f6d5>\u001b[0m in \u001b[0;36m<module>\u001b[0;34m()\u001b[0m\n\u001b[1;32m      2\u001b[0m \u001b[1;33m\u001b[0m\u001b[0m\n\u001b[1;32m      3\u001b[0m \u001b[1;32mif\u001b[0m \u001b[0mnumber_of_paws\u001b[0m \u001b[1;33m<\u001b[0m \u001b[1;36m0\u001b[0m\u001b[1;33m:\u001b[0m\u001b[1;33m\u001b[0m\u001b[0m\n\u001b[0;32m----> 4\u001b[0;31m     \u001b[1;32mraise\u001b[0m \u001b[0mException\u001b[0m\u001b[1;33m(\u001b[0m\u001b[1;34m'Your dog cannot have a negative number of paws!'\u001b[0m\u001b[1;33m)\u001b[0m\u001b[1;33m\u001b[0m\u001b[0m\n\u001b[0m\u001b[1;32m      5\u001b[0m \u001b[1;33m\u001b[0m\u001b[0m\n\u001b[1;32m      6\u001b[0m \u001b[0mprint\u001b[0m\u001b[1;33m(\u001b[0m\u001b[1;34m'My dog has'\u001b[0m\u001b[1;33m,\u001b[0m \u001b[0mnumber_of_paws\u001b[0m\u001b[1;33m,\u001b[0m \u001b[1;34m'paw(s).'\u001b[0m\u001b[1;33m)\u001b[0m\u001b[1;33m\u001b[0m\u001b[0m\n",
      "\u001b[0;31mException\u001b[0m: Your dog cannot have a negative number of paws!"
     ]
    }
   ],
   "source": [
    "number_of_paws = -1\n",
    "\n",
    "if number_of_paws < 0:\n",
    "    raise Exception('Your dog cannot have a negative number of paws!')\n",
    "\n",
    "print('My dog has', number_of_paws, 'paw(s).')"
   ]
  },
  {
   "cell_type": "markdown",
   "metadata": {},
   "source": [
    "### Funcions"
   ]
  },
  {
   "cell_type": "markdown",
   "metadata": {},
   "source": [
    "Hem après com representar els valors o fins i tot sèries de valors per un nom de variable, de manera que puguem tornar a utilitzar-los fàcilment.\n",
    "\n",
    "Sovint, però, volem repetir ràpidament moltes línies de codi. Per exemple, la fórmula d'un sinus és complicada, no voldriem haver-la de copiar i enganxar per a cada angle per al qual la volguesim calcular. Millor poder fer referència al codi corresponent amb un nom curt, tal com *sin*.\n",
    "\n",
    "Les funcions permeten això. Per definir una funció, utilitzem la instrucció *def*:"
   ]
  },
  {
   "cell_type": "code",
   "execution_count": 26,
   "metadata": {},
   "outputs": [
    {
     "name": "stdout",
     "output_type": "stream",
     "text": [
      "preparing to print\n",
      "the function is printing\n",
      "done printing\n",
      "preparing to print\n",
      "the function is printing\n",
      "done printing\n"
     ]
    }
   ],
   "source": [
    "def print_something():\n",
    "    print(\"preparing to print\")\n",
    "    print(\"the function is printing\")\n",
    "    print(\"done printing\")\n",
    "\n",
    "print_something()\n",
    "print_something()"
   ]
  },
  {
   "cell_type": "markdown",
   "metadata": {},
   "source": [
    "Per afegir més flexibilitat, podem passar variables a la funció, anomenats **arguments** de la funció, així com variables de **retorn** cap al bloc principal de codi."
   ]
  },
  {
   "cell_type": "code",
   "execution_count": 27,
   "metadata": {},
   "outputs": [
    {
     "name": "stdout",
     "output_type": "stream",
     "text": [
      "The first number is 3\n",
      "The second number is 5\n",
      "Their sum is 8\n",
      "The first number is 10\n",
      "The second number is 20\n",
      "30\n"
     ]
    }
   ],
   "source": [
    "# Function definition\n",
    "def print_and_sum(a, b):\n",
    "    print('The first number is', a)\n",
    "    print('The second number is', b)\n",
    "    return a + b\n",
    "\n",
    "# Assign function output to a variable\n",
    "c = print_and_sum(3,5)\n",
    "print('Their sum is', c)\n",
    "\n",
    "# Print function output directly\n",
    "print(print_and_sum(10,20))"
   ]
  },
  {
   "cell_type": "markdown",
   "metadata": {},
   "source": [
    "Fixeu-vos que la nostra crida a la funció és per si mateixa una expressió, ja que retorna un valor. Es poden retornar valors  múltiples, separats per una coma. Les funcions sense un argument de retorn (com el primer exemple) tornen *None*."
   ]
  },
  {
   "cell_type": "markdown",
   "metadata": {},
   "source": [
    "Quan una funció es pot expressar en una única sentència es pot definir com a funció anònima o *lambda function*"
   ]
  },
  {
   "cell_type": "code",
   "execution_count": 9,
   "metadata": {},
   "outputs": [
    {
     "data": {
      "text/plain": [
       "3"
      ]
     },
     "execution_count": 9,
     "metadata": {},
     "output_type": "execute_result"
    }
   ],
   "source": [
    "f = lambda x: x**2-1\n",
    "f(2)"
   ]
  },
  {
   "cell_type": "markdown",
   "metadata": {},
   "source": [
    "### Help"
   ]
  },
  {
   "cell_type": "markdown",
   "metadata": {},
   "source": [
    "Per exemple, per a les llistes:"
   ]
  },
  {
   "cell_type": "code",
   "execution_count": 3,
   "metadata": {
    "collapsed": true
   },
   "outputs": [
    {
     "name": "stdout",
     "output_type": "stream",
     "text": [
      "Help on class list in module builtins:\n",
      "\n",
      "class list(object)\n",
      " |  list() -> new empty list\n",
      " |  list(iterable) -> new list initialized from iterable's items\n",
      " |  \n",
      " |  Methods defined here:\n",
      " |  \n",
      " |  __add__(self, value, /)\n",
      " |      Return self+value.\n",
      " |  \n",
      " |  __contains__(self, key, /)\n",
      " |      Return key in self.\n",
      " |  \n",
      " |  __delitem__(self, key, /)\n",
      " |      Delete self[key].\n",
      " |  \n",
      " |  __eq__(self, value, /)\n",
      " |      Return self==value.\n",
      " |  \n",
      " |  __ge__(self, value, /)\n",
      " |      Return self>=value.\n",
      " |  \n",
      " |  __getattribute__(self, name, /)\n",
      " |      Return getattr(self, name).\n",
      " |  \n",
      " |  __getitem__(...)\n",
      " |      x.__getitem__(y) <==> x[y]\n",
      " |  \n",
      " |  __gt__(self, value, /)\n",
      " |      Return self>value.\n",
      " |  \n",
      " |  __iadd__(self, value, /)\n",
      " |      Implement self+=value.\n",
      " |  \n",
      " |  __imul__(self, value, /)\n",
      " |      Implement self*=value.\n",
      " |  \n",
      " |  __init__(self, /, *args, **kwargs)\n",
      " |      Initialize self.  See help(type(self)) for accurate signature.\n",
      " |  \n",
      " |  __iter__(self, /)\n",
      " |      Implement iter(self).\n",
      " |  \n",
      " |  __le__(self, value, /)\n",
      " |      Return self<=value.\n",
      " |  \n",
      " |  __len__(self, /)\n",
      " |      Return len(self).\n",
      " |  \n",
      " |  __lt__(self, value, /)\n",
      " |      Return self<value.\n",
      " |  \n",
      " |  __mul__(self, value, /)\n",
      " |      Return self*value.n\n",
      " |  \n",
      " |  __ne__(self, value, /)\n",
      " |      Return self!=value.\n",
      " |  \n",
      " |  __new__(*args, **kwargs) from builtins.type\n",
      " |      Create and return a new object.  See help(type) for accurate signature.\n",
      " |  \n",
      " |  __repr__(self, /)\n",
      " |      Return repr(self).\n",
      " |  \n",
      " |  __reversed__(...)\n",
      " |      L.__reversed__() -- return a reverse iterator over the list\n",
      " |  \n",
      " |  __rmul__(self, value, /)\n",
      " |      Return self*value.\n",
      " |  \n",
      " |  __setitem__(self, key, value, /)\n",
      " |      Set self[key] to value.\n",
      " |  \n",
      " |  __sizeof__(...)\n",
      " |      L.__sizeof__() -- size of L in memory, in bytes\n",
      " |  \n",
      " |  append(...)\n",
      " |      L.append(object) -> None -- append object to end\n",
      " |  \n",
      " |  clear(...)\n",
      " |      L.clear() -> None -- remove all items from L\n",
      " |  \n",
      " |  copy(...)\n",
      " |      L.copy() -> list -- a shallow copy of L\n",
      " |  \n",
      " |  count(...)\n",
      " |      L.count(value) -> integer -- return number of occurrences of value\n",
      " |  \n",
      " |  extend(...)\n",
      " |      L.extend(iterable) -> None -- extend list by appending elements from the iterable\n",
      " |  \n",
      " |  index(...)\n",
      " |      L.index(value, [start, [stop]]) -> integer -- return first index of value.\n",
      " |      Raises ValueError if the value is not present.\n",
      " |  \n",
      " |  insert(...)\n",
      " |      L.insert(index, object) -- insert object before index\n",
      " |  \n",
      " |  pop(...)\n",
      " |      L.pop([index]) -> item -- remove and return item at index (default last).\n",
      " |      Raises IndexError if list is empty or index is out of range.\n",
      " |  \n",
      " |  remove(...)\n",
      " |      L.remove(value) -> None -- remove first occurrence of value.\n",
      " |      Raises ValueError if the value is not present.\n",
      " |  \n",
      " |  reverse(...)\n",
      " |      L.reverse() -- reverse *IN PLACE*\n",
      " |  \n",
      " |  sort(...)\n",
      " |      L.sort(key=None, reverse=False) -> None -- stable sort *IN PLACE*\n",
      " |  \n",
      " |  ----------------------------------------------------------------------\n",
      " |  Data and other attributes defined here:\n",
      " |  \n",
      " |  __hash__ = None\n",
      "\n"
     ]
    }
   ],
   "source": [
    "help(list)"
   ]
  },
  {
   "cell_type": "markdown",
   "metadata": {},
   "source": [
    "podem veure alguns exemples d'aplicació de la informació obtinguda"
   ]
  },
  {
   "cell_type": "code",
   "execution_count": 7,
   "metadata": {},
   "outputs": [
    {
     "name": "stdout",
     "output_type": "stream",
     "text": [
      "[0, 1, 2, 3, 4, 10, 8, 6, 4, 2]\n",
      "[0, 1, 2, 3, 4, 10, 8, 6, 4, 2, 10]\n",
      "2\n",
      "[0, 1, 2, 3, 4, 10, 8, 6, 4, 2]\n",
      "[2, 4, 6, 8, 10, 4, 3, 2, 1, 0]\n",
      "[0, 1, 2, 2, 3, 4, 4, 6, 8, 10]\n"
     ]
    }
   ],
   "source": [
    "l = list(range(5))+list(range(10,0,-2))\n",
    "print(l)\n",
    "l.append(10)\n",
    "print(l)\n",
    "print(l.count(2))\n",
    "l.pop()\n",
    "print(l)\n",
    "l.reverse()\n",
    "print(l)\n",
    "l.sort()\n",
    "print(l)"
   ]
  },
  {
   "cell_type": "markdown",
   "metadata": {},
   "source": [
    "El tipus *range()*, amb un únic argument s'escriu range(n) i crea una llista immutable de n nombres enters consecutius que comença en 0 i acaba en n - 1. Per veure els valors de *range()*, cal convertir-lo a llista mitjançant la funció *list()*.\n",
    "Amb dos arguments s'escriu range(m, n) i crea una llista immutable d'enters consecutius que comença a m i acaba en n - 1.\n",
    "Amb tres arguments s'escriu range(m, n, p) i crea una llista immutable d'enters que comença a m i acaba just abans de superar o igualar n, augmentant els valors de p en p. Si p és negatiu, els valors van disminuint de p en p."
   ]
  },
  {
   "cell_type": "markdown",
   "metadata": {},
   "source": [
    "## SymPy"
   ]
  },
  {
   "cell_type": "markdown",
   "metadata": {},
   "source": [
    "SymPy proporciona suport per a les matemàtiques simbòliques a Python, similar al que proporcionen eines com Mathematica o Maple. La principal diferència és que actua com qualsevol altre mòdul de Python, així podem utilitzar la matemàtica simbòlica junt amb  la resta de la funcionalitats de Python.  \n",
    "Importem SymPy:"
   ]
  },
  {
   "cell_type": "code",
   "execution_count": 2,
   "metadata": {},
   "outputs": [
    {
     "name": "stdout",
     "output_type": "stream",
     "text": [
      "0.5\n",
      "1.0\n",
      "1.125899906842624e-35\n",
      "1/2\n",
      "1\n"
     ]
    },
    {
     "data": {
      "text/plain": [
       "1/88817841970012523233890533447265625"
      ]
     },
     "execution_count": 2,
     "metadata": {},
     "output_type": "execute_result"
    }
   ],
   "source": [
    "from sympy import *\n",
    "a = 1/2              # in common Python\n",
    "print(a)\n",
    "print(a*2)\n",
    "print(2**50/10**50)\n",
    "a = Rational(1, 2)   # with SymPy\n",
    "print(a) \n",
    "print(a*2)\n",
    "Integer(2)**50/Integer(10)**50"
   ]
  },
  {
   "cell_type": "markdown",
   "metadata": {},
   "source": [
    "Observant aquestes poques línies de codi, veiem ja que podem treballar amb nombres racionals i que el nombre de xifres no representa cap problema"
   ]
  },
  {
   "cell_type": "markdown",
   "metadata": {},
   "source": [
    "### Tipus de variables"
   ]
  },
  {
   "cell_type": "markdown",
   "metadata": {
    "collapsed": true
   },
   "source": [
    "SymPy defineix els seus propis tipus, pot convertir-los a tipus Python, però no sempre es desitjable ja que probablement es perdrà precisió quan es faci. Els tipus són:\n",
    "* Rational(a,b) que representa exactament $\\frac{a}{b}$\n",
    "* Float() que representa un nombre de coma flotant de precissió arbitrària (per defecte l'escriu amb 15 dígits, si en volem veure més o menys cal utilitzar *N(_,dígits)*)\n",
    "* Integer() que representa un enter de longitud arbitrària"
   ]
  },
  {
   "cell_type": "code",
   "execution_count": 2,
   "metadata": {},
   "outputs": [
    {
     "name": "stdout",
     "output_type": "stream",
     "text": [
      "2 <class 'sympy.core.numbers.Integer'>\n",
      "2*sqrt(2) <class 'sympy.core.mul.Mul'>\n",
      "2.828427125 <class 'sympy.core.numbers.Float'>\n",
      "1.414213562373095145474622 <class 'sympy.core.numbers.Float'>\n",
      "1.4142135623730951 <class 'float'>\n"
     ]
    }
   ],
   "source": [
    "# Now functions like sqrt(), sin(),... expect SymPy variables\n",
    "a = sqrt(4)                 # SymPy Integer\n",
    "print(a,type(a))             \n",
    "b = sqrt(8)\n",
    "print(b,type(b))\n",
    "print(N(b,10),type(N(b,10)))\n",
    "c = sqrt(2.)                # SymPy Float\n",
    "print(N(c,25),type(c)) \n",
    "print(float(c),type(float(c)))"
   ]
  },
  {
   "cell_type": "markdown",
   "metadata": {
    "collapsed": true
   },
   "source": [
    "Podem fer matemàtica simbòlica no només amb nombres, sinó que podem dir al SymPy quines variables tractar com un **símbol** mitjançant l'ús de *symbols()*"
   ]
  },
  {
   "cell_type": "code",
   "execution_count": 4,
   "metadata": {},
   "outputs": [
    {
     "name": "stdout",
     "output_type": "stream",
     "text": [
      "x + 2*y\n"
     ]
    }
   ],
   "source": [
    "x, y, z = symbols(\"x y z\")\n",
    "expr = x + 2*y\n",
    "print(expr)"
   ]
  },
  {
   "cell_type": "code",
   "execution_count": 22,
   "metadata": {},
   "outputs": [
    {
     "data": {
      "text/plain": [
       "x + 2*y - 1"
      ]
     },
     "execution_count": 22,
     "metadata": {},
     "output_type": "execute_result"
    }
   ],
   "source": [
    "expr-1"
   ]
  },
  {
   "cell_type": "code",
   "execution_count": 23,
   "metadata": {},
   "outputs": [
    {
     "data": {
      "text/plain": [
       "x + y"
      ]
     },
     "execution_count": 23,
     "metadata": {},
     "output_type": "execute_result"
    }
   ],
   "source": [
    "expr-y"
   ]
  },
  {
   "cell_type": "code",
   "execution_count": 30,
   "metadata": {},
   "outputs": [
    {
     "data": {
      "text/plain": [
       "(x + 2*y)*(x**2 - 1)"
      ]
     },
     "execution_count": 30,
     "metadata": {},
     "output_type": "execute_result"
    }
   ],
   "source": [
    "z = (x**2-1)*expr\n",
    "z"
   ]
  },
  {
   "cell_type": "code",
   "execution_count": 31,
   "metadata": {},
   "outputs": [
    {
     "name": "stdout",
     "output_type": "stream",
     "text": [
      "x**3 + 2*x**2*y - x - 2*y\n",
      "(x - 1)*(x + 1)*(x + 2*y)\n"
     ]
    }
   ],
   "source": [
    "print(expand(z))\n",
    "print(factor(z))"
   ]
  },
  {
   "cell_type": "markdown",
   "metadata": {},
   "source": [
    "Totes les variables SymPy són només objectes, i quan es fan en dues operacions amb objectes de SymPy, el resultat és un altre objecte de SymPy.\n",
    "Quan es combina un objecte de SymPy i un de Python, el resultat és també un objecte de SymPy. Però hem de vigilar quan treballem amb fraccions. Per exemple, fent x + 1/3, 1/3 es calcula en primer lloc amb Python (i obtenim  0.333...) i després s'afegeix al símbol SymPy x. La funció Rational() fa que tot això succeeixi en SymPy:"
   ]
  },
  {
   "cell_type": "code",
   "execution_count": 33,
   "metadata": {},
   "outputs": [
    {
     "data": {
      "text/plain": [
       "x + 0.333333333333333"
      ]
     },
     "execution_count": 33,
     "metadata": {},
     "output_type": "execute_result"
    }
   ],
   "source": [
    "x + 1/3"
   ]
  },
  {
   "cell_type": "code",
   "execution_count": 34,
   "metadata": {},
   "outputs": [
    {
     "data": {
      "text/plain": [
       "x + 1/3"
      ]
     },
     "execution_count": 34,
     "metadata": {},
     "output_type": "execute_result"
    }
   ],
   "source": [
    "x + Rational(1,3)"
   ]
  },
  {
   "cell_type": "markdown",
   "metadata": {},
   "source": [
    "### Simplificacions"
   ]
  },
  {
   "cell_type": "markdown",
   "metadata": {},
   "source": [
    "A l'apartat anterior ja hem vist alguns exemples de simplificacions, transformant una mateixa expressió a una altra forma equivalent: *expand()* i *factor()*.\n",
    "Altres instruccions que complementen a les dues anteriors són:\n",
    "* *simplify()*, podriem dir que és com la funció inversa de *expand()*\n",
    "* *apart()*, que descomposa en fraccions parcials una funció racional\n",
    "* *together()*, que compacta en un únic divisor comú\n",
    "* *collect()*, que agrupa termes amb la mateixa potència\n",
    "* *radsimp()*, que racionalitza el denominador\n",
    "* *trigsimp()*, que simplifica mitjançant igualtats trigonomètriques\n",
    "* *powsimp()*, que combina bases o exponents"
   ]
  },
  {
   "cell_type": "code",
   "execution_count": 29,
   "metadata": {},
   "outputs": [
    {
     "name": "stdout",
     "output_type": "stream",
     "text": [
      "sin(x)**2 + cos(x)**2 = 1\n"
     ]
    }
   ],
   "source": [
    "expr = cos(x)**2 + sin(x)**2\n",
    "print(expr, '=', simplify(expr))"
   ]
  },
  {
   "cell_type": "code",
   "execution_count": 19,
   "metadata": {},
   "outputs": [
    {
     "name": "stdout",
     "output_type": "stream",
     "text": [
      "1/((x + 1)*(x + 2))\n",
      "    1       1  \n",
      "- ───── + ─────\n",
      "  x + 2   x + 1\n"
     ]
    }
   ],
   "source": [
    "rat = 1/( (x+2)*(x+1) )\n",
    "print(rat)         # normal print\n",
    "pprint(apart(rat)) # pretty print"
   ]
  },
  {
   "cell_type": "code",
   "execution_count": 8,
   "metadata": {},
   "outputs": [
    {
     "name": "stdout",
     "output_type": "stream",
     "text": [
      "1   1   1\n",
      "─ + ─ + ─\n",
      "z   y   x\n",
      "x⋅y + x⋅z + y⋅z\n",
      "───────────────\n",
      "     x⋅y⋅z     \n"
     ]
    }
   ],
   "source": [
    "rat = 1/x + 1/y + 1/z\n",
    "pprint(rat)\n",
    "pprint(together(rat))"
   ]
  },
  {
   "cell_type": "code",
   "execution_count": 10,
   "metadata": {},
   "outputs": [
    {
     "name": "stdout",
     "output_type": "stream",
     "text": [
      "     2                    \n",
      "c + x ⋅(a + b) + x⋅(a - b)\n",
      "(a + b)⋅sin(2⋅x)\n"
     ]
    }
   ],
   "source": [
    "a, b, c = symbols('a, b, c')\n",
    "pprint(collect(a*x**2 + b*x**2 + a*x - b*x + c, x))\n",
    "pprint(collect(a*sin(2*x) + b*sin(2*x), sin(2*x)))"
   ]
  },
  {
   "cell_type": "code",
   "execution_count": 20,
   "metadata": {},
   "outputs": [
    {
     "name": "stdout",
     "output_type": "stream",
     "text": [
      "  1   \n",
      "──────\n",
      "√2 + 3\n",
      "\n",
      "-√2 + 3\n",
      "───────\n",
      "   7   \n"
     ]
    }
   ],
   "source": [
    "e = 1 / (3 + sqrt(2))\n",
    "pprint(e)\n",
    "print()\n",
    "pprint(radsimp(e))"
   ]
  },
  {
   "cell_type": "code",
   "execution_count": 30,
   "metadata": {},
   "outputs": [
    {
     "name": "stdout",
     "output_type": "stream",
     "text": [
      "2*sin(x)**2 + cos(x)**2 = sin(x)**2 + 1\n"
     ]
    }
   ],
   "source": [
    "e = 2*sin(x)**2 + cos(x)**2\n",
    "print(e, '=', trigsimp(e))"
   ]
  },
  {
   "cell_type": "code",
   "execution_count": 33,
   "metadata": {},
   "outputs": [
    {
     "name": "stdout",
     "output_type": "stream",
     "text": [
      " y + z  z\n",
      "x     ⋅y \n"
     ]
    }
   ],
   "source": [
    "pprint(powsimp(x**y * x**z * y**z))"
   ]
  },
  {
   "cell_type": "markdown",
   "metadata": {},
   "source": [
    "### Substitucions"
   ]
  },
  {
   "cell_type": "markdown",
   "metadata": {},
   "source": [
    "SymPy proporciona mètodes per substituir els valors de símbols en expressions simbòliques. Fixeu-vos que el codi següent probablement no fa el que espereu:"
   ]
  },
  {
   "cell_type": "code",
   "execution_count": 40,
   "metadata": {},
   "outputs": [
    {
     "data": {
      "text/plain": [
       "sin(2*pi*z)"
      ]
     },
     "execution_count": 40,
     "metadata": {},
     "output_type": "execute_result"
    }
   ],
   "source": [
    "expr = sin(z*2*pi)\n",
    "z = 1\n",
    "expr"
   ]
  },
  {
   "cell_type": "markdown",
   "metadata": {},
   "source": [
    "Ara només hem redefinit z per ser un tipus Python"
   ]
  },
  {
   "cell_type": "code",
   "execution_count": 42,
   "metadata": {},
   "outputs": [
    {
     "name": "stdout",
     "output_type": "stream",
     "text": [
      "1 <class 'int'>\n"
     ]
    },
    {
     "data": {
      "text/plain": [
       "sin(2*pi*z) + 1"
      ]
     },
     "execution_count": 42,
     "metadata": {},
     "output_type": "execute_result"
    }
   ],
   "source": [
    "print(z, type(z))\n",
    "expr+1"
   ]
  },
  {
   "cell_type": "markdown",
   "metadata": {},
   "source": [
    "Per substituir un símbol utilitzem *subs()*"
   ]
  },
  {
   "cell_type": "code",
   "execution_count": 52,
   "metadata": {},
   "outputs": [
    {
     "name": "stdout",
     "output_type": "stream",
     "text": [
      "sin(2⋅π⋅x)\n",
      "√2\n",
      "──\n",
      "2 \n",
      "0.707106781186548\n",
      "0.70710678118654752440084436210484903928483593768847 Answer to 50 digits\n",
      "0.70710678118654757273731092936941422522068023681641 Only 15 digits correct\n"
     ]
    }
   ],
   "source": [
    "expr = sin(x*2*pi)\n",
    "pprint(expr)\n",
    "a = expr.subs(x, 0.125)\n",
    "pprint(a)        # This is not a SymPy floating point number -- it is still a SymPy object\n",
    "b = N(a)\n",
    "pprint(b)        # This is a SymPy floating point number\n",
    "print(N(a,50),'Answer to 50 digits')\n",
    "print(N(b,50), 'Only 15 digits correct')"
   ]
  },
  {
   "cell_type": "markdown",
   "metadata": {},
   "source": [
    "Cal tenir en compte que la substitució retorna una nova expressió, les expressions SymPy són immutables"
   ]
  },
  {
   "cell_type": "code",
   "execution_count": 54,
   "metadata": {},
   "outputs": [
    {
     "name": "stdout",
     "output_type": "stream",
     "text": [
      "1\n",
      "cos(x)\n",
      "x\n"
     ]
    }
   ],
   "source": [
    "expr = cos(x)\n",
    "print(expr.subs(x, 0))\n",
    "pprint(expr)\n",
    "print(x)"
   ]
  },
  {
   "cell_type": "markdown",
   "metadata": {},
   "source": [
    "Per realitzar substitucions múltiples, cal passar una llista de tuples"
   ]
  },
  {
   "cell_type": "code",
   "execution_count": 56,
   "metadata": {},
   "outputs": [
    {
     "data": {
      "text/plain": [
       "x**3 + 4*x*y - z"
      ]
     },
     "execution_count": 56,
     "metadata": {},
     "output_type": "execute_result"
    }
   ],
   "source": [
    "z = symbols('z')\n",
    "expr = x**3 + 4*x*y - z\n",
    "expr"
   ]
  },
  {
   "cell_type": "code",
   "execution_count": 57,
   "metadata": {
    "scrolled": true
   },
   "outputs": [
    {
     "data": {
      "text/plain": [
       "40"
      ]
     },
     "execution_count": 57,
     "metadata": {},
     "output_type": "execute_result"
    }
   ],
   "source": [
    "expr.subs([(x, 2), (y, 4), (z, 0)])"
   ]
  },
  {
   "cell_type": "markdown",
   "metadata": {},
   "source": [
    "### Igualtats i equacions"
   ]
  },
  {
   "cell_type": "markdown",
   "metadata": {},
   "source": [
    "*=* és l'operador d'assignació de Phyton (no significa la igualtat simbòlica), i *==* és la prova lògica (igualtat  estructural exacta). Hi ha un objecte independent, *Eq()* per especificar la igualtat simbòlica."
   ]
  },
  {
   "cell_type": "code",
   "execution_count": 5,
   "metadata": {},
   "outputs": [
    {
     "data": {
      "text/plain": [
       "False"
      ]
     },
     "execution_count": 5,
     "metadata": {},
     "output_type": "execute_result"
    }
   ],
   "source": [
    "x + 1 == 4"
   ]
  },
  {
   "cell_type": "code",
   "execution_count": 7,
   "metadata": {},
   "outputs": [
    {
     "name": "stdout",
     "output_type": "stream",
     "text": [
      "x + 1 = 4\n"
     ]
    }
   ],
   "source": [
    "pprint(Eq(x + 1, 4))"
   ]
  },
  {
   "cell_type": "code",
   "execution_count": 10,
   "metadata": {},
   "outputs": [
    {
     "name": "stdout",
     "output_type": "stream",
     "text": [
      "0\n",
      "False\n"
     ]
    }
   ],
   "source": [
    "a = (x + 1)**2\n",
    "b = x**2 + 2*x + 1    \n",
    "print(simplify(a-b))      # these are algebraically equal\n",
    "print(a==b)        # but not structurally equal"
   ]
  },
  {
   "cell_type": "markdown",
   "metadata": {},
   "source": [
    "Podem intentar resoldre equacions algebraiques amb *solve()*, gestiona tant solucions reals com imaginàries:"
   ]
  },
  {
   "cell_type": "code",
   "execution_count": 14,
   "metadata": {},
   "outputs": [
    {
     "name": "stdout",
     "output_type": "stream",
     "text": [
      "[-1, 1, -ⅈ, ⅈ]\n"
     ]
    }
   ],
   "source": [
    "pprint(solve(Eq(x**4 - 1,0), x))"
   ]
  },
  {
   "cell_type": "markdown",
   "metadata": {},
   "source": [
    "Si l'equació s'iguala a zero, no cal escriure *Eq()*, també resolt sistemes d'equacions"
   ]
  },
  {
   "cell_type": "code",
   "execution_count": 13,
   "metadata": {
    "scrolled": false
   },
   "outputs": [
    {
     "name": "stdout",
     "output_type": "stream",
     "text": [
      "⎡⎛-√2   -√2 ⎞  ⎛√2  √2⎞⎤\n",
      "⎢⎜────, ────⎟, ⎜──, ──⎟⎥\n",
      "⎣⎝ 2     2  ⎠  ⎝2   2 ⎠⎦\n"
     ]
    }
   ],
   "source": [
    "pprint(solve([x**2 + y**2 - 1, x - y], [x, y]))"
   ]
  },
  {
   "cell_type": "markdown",
   "metadata": {},
   "source": [
    "*solveset()* és la instrucció per a resoldre equacions de SymPy. La instrucció *solve()* ha quedat obsoleta però encara és molt utilitzada."
   ]
  },
  {
   "cell_type": "code",
   "execution_count": 52,
   "metadata": {},
   "outputs": [
    {
     "data": {
      "image/png": "[encoded data removed]",
      "text/latex": [
       "$$\\left\\{0, 1\\right\\}$$"
      ],
      "text/plain": [
       "{0, 1}"
      ]
     },
     "execution_count": 52,
     "metadata": {},
     "output_type": "execute_result"
    }
   ],
   "source": [
    "solveset(x**2 - x, x)"
   ]
  },
  {
   "cell_type": "code",
   "execution_count": 55,
   "metadata": {},
   "outputs": [
    {
     "data": {
      "image/png": "[encoded data removed]",
      "text/latex": [
       "$$\\left\\{2 n \\pi + \\frac{\\pi}{2}\\; |\\; n \\in \\mathbb{Z}\\right\\}$$"
      ],
      "text/plain": [
       "⎧        π        ⎫\n",
       "⎨2⋅n⋅π + ─ | n ∊ ℤ⎬\n",
       "⎩        2        ⎭"
      ]
     },
     "execution_count": 55,
     "metadata": {},
     "output_type": "execute_result"
    }
   ],
   "source": [
    "solveset(sin(x) - 1, x)"
   ]
  },
  {
   "cell_type": "markdown",
   "metadata": {},
   "source": [
    "podem fins i tot restringir el domini de la solució als reals"
   ]
  },
  {
   "cell_type": "code",
   "execution_count": 58,
   "metadata": {},
   "outputs": [
    {
     "data": {
      "image/png": "[encoded data removed]",
      "text/latex": [
       "$$\\left ( \\left\\{0, - i, i\\right\\}, \\quad \\left\\{0\\right\\}\\right )$$"
      ],
      "text/plain": [
       "({0, -ⅈ, ⅈ}, {0})"
      ]
     },
     "execution_count": 58,
     "metadata": {},
     "output_type": "execute_result"
    }
   ],
   "source": [
    "solveset(x**3 + x, x),solveset(x**3 + x, x, domain=S.Reals)"
   ]
  },
  {
   "cell_type": "markdown",
   "metadata": {},
   "source": [
    "*linsolve()* és la sentència utilitzada per a resoldre sistemes d'equacions lineals"
   ]
  },
  {
   "cell_type": "code",
   "execution_count": 5,
   "metadata": {},
   "outputs": [
    {
     "data": {
      "text/plain": [
       "{(1/2, 5/2)}"
      ]
     },
     "execution_count": 5,
     "metadata": {},
     "output_type": "execute_result"
    }
   ],
   "source": [
    "linsolve([x - y + 2, x + y - 3], [x, y])"
   ]
  },
  {
   "cell_type": "code",
   "execution_count": 6,
   "metadata": {},
   "outputs": [
    {
     "data": {
      "text/plain": [
       "{(-y - 1, y, 2)}"
      ]
     },
     "execution_count": 6,
     "metadata": {},
     "output_type": "execute_result"
    }
   ],
   "source": [
    "linsolve([x + y + z - 1, x + y + 2*z - 3 ], (x, y, z))"
   ]
  },
  {
   "cell_type": "markdown",
   "metadata": {},
   "source": [
    "i *roots* s'utilitza per calcular les arrels d'un polinomi tinguent en compte la seva multiplicitat"
   ]
  },
  {
   "cell_type": "code",
   "execution_count": 7,
   "metadata": {},
   "outputs": [
    {
     "data": {
      "text/plain": [
       "{0: 1, 3: 2}"
      ]
     },
     "execution_count": 7,
     "metadata": {},
     "output_type": "execute_result"
    }
   ],
   "source": [
    "roots(x**3 - 6*x**2 + 9*x, x)"
   ]
  },
  {
   "cell_type": "markdown",
   "metadata": {},
   "source": [
    "0 té multiplicitat 1 i 3 multiplicitat 2."
   ]
  },
  {
   "cell_type": "markdown",
   "metadata": {},
   "source": [
    "### Matrius"
   ]
  },
  {
   "cell_type": "markdown",
   "metadata": {
    "collapsed": true
   },
   "source": [
    "Per fer una matriu en SymPy, utilitzeu l'objecte *Matrix()*. Una matriu es construeix proporcionant una llista de vectors fila que componen la matriu. Per exemple,"
   ]
  },
  {
   "cell_type": "code",
   "execution_count": 2,
   "metadata": {},
   "outputs": [
    {
     "data": {
      "text/latex": [
       "$$\\left[\\begin{matrix}1 & -1\\\\3 & 4\\\\0 & 2\\end{matrix}\\right]$$"
      ],
      "text/plain": [
       "⎡1  -1⎤\n",
       "⎢     ⎥\n",
       "⎢3  4 ⎥\n",
       "⎢     ⎥\n",
       "⎣0  2 ⎦"
      ]
     },
     "execution_count": 2,
     "metadata": {},
     "output_type": "execute_result"
    }
   ],
   "source": [
    "init_printing()  # Pretty printing of outputs, not prints()\n",
    "Matrix([[1, -1], [3, 4], [0, 2]])"
   ]
  },
  {
   "cell_type": "markdown",
   "metadata": {
    "collapsed": true
   },
   "source": [
    "Perquè sigui més fàcil fer vectors columna, una llista d'elements es considera com un vector columna. Les operacions amb matrius són les habituals:"
   ]
  },
  {
   "cell_type": "code",
   "execution_count": 61,
   "metadata": {},
   "outputs": [
    {
     "data": {
      "text/latex": [
       "$$\\left ( \\left[\\begin{matrix}3 & 0\\\\2 & 7\\end{matrix}\\right], \\quad \\left[\\begin{matrix}2 & -2\\\\6 & 8\\end{matrix}\\right], \\quad \\left[\\begin{matrix}-1\\\\25\\end{matrix}\\right], \\quad \\left[\\begin{matrix}3 & -2\\\\2 & 15\\end{matrix}\\right]\\right )$$"
      ],
      "text/plain": [
       "⎛⎡3  0⎤, ⎡2  -2⎤, ⎡-1⎤, ⎡3  -2⎤⎞\n",
       "⎜⎢    ⎥  ⎢     ⎥  ⎢  ⎥  ⎢     ⎥⎟\n",
       "⎝⎣2  7⎦  ⎣6  8 ⎦  ⎣25⎦  ⎣2  15⎦⎠"
      ]
     },
     "execution_count": 61,
     "metadata": {},
     "output_type": "execute_result"
    }
   ],
   "source": [
    "M = Matrix([[1, -1], [3, 4]])\n",
    "N = Matrix([[2,1],[-1,3]])\n",
    "C = Matrix([3,4])\n",
    "M+N, 2*M, M*C, M*N"
   ]
  },
  {
   "cell_type": "markdown",
   "metadata": {
    "collapsed": true
   },
   "source": [
    "La resta d'operacions bàsiques són: \n",
    "* *shape*, retorna les dimensions de la matriu\n",
    "* *row()* i *col()*, retornen una filera o una columna, seguint el mètode habitual d'indexació.\n",
    "* *row_del()* i *col_del()*, eliminen la filera o columna especificada. Modifiquen la matriu original.\n",
    "* *row_insert()* i *col_insert()*, insereixen fileres o columnes en la posició especificada. No modifiquen la matriu original."
   ]
  },
  {
   "cell_type": "code",
   "execution_count": 19,
   "metadata": {},
   "outputs": [
    {
     "name": "stdout",
     "output_type": "stream",
     "text": [
      "(2, 2)\n",
      "⎡1⎤\n",
      "⎢ ⎥\n",
      "⎣3⎦\n",
      "[3  4]\n",
      "[1  -1]\n",
      "⎡1  2 ⎤\n",
      "⎢     ⎥\n",
      "⎢1  3 ⎥\n",
      "⎢     ⎥\n",
      "⎣1  -1⎦\n"
     ]
    },
    {
     "data": {
      "text/latex": [
       "$$\\left[\\begin{matrix}1 & -1\\end{matrix}\\right]$$"
      ],
      "text/plain": [
       "[1  -1]"
      ]
     },
     "execution_count": 19,
     "metadata": {},
     "output_type": "execute_result"
    }
   ],
   "source": [
    "print(M.shape)\n",
    "pprint(M.col(0))\n",
    "pprint(M.row(1))\n",
    "M.row_del(-1)\n",
    "pprint(M)\n",
    "pprint(M.row_insert(0,Matrix([[1,2],[1,3]])))\n",
    "M"
   ]
  },
  {
   "cell_type": "markdown",
   "metadata": {},
   "source": [
    "A continuació podem veure algunes operacions bàsiques que ens falten"
   ]
  },
  {
   "cell_type": "code",
   "execution_count": 20,
   "metadata": {},
   "outputs": [
    {
     "name": "stdout",
     "output_type": "stream",
     "text": [
      "⎡4/7   1/7⎤\n",
      "⎢         ⎥\n",
      "⎣-3/7  1/7⎦\n",
      "⎡1   3⎤\n",
      "⎢     ⎥\n",
      "⎣-1  4⎦\n",
      "⎡1  0  0⎤\n",
      "⎢       ⎥\n",
      "⎢0  1  0⎥\n",
      "⎢       ⎥\n",
      "⎣0  0  1⎦\n",
      "⎡0  0  0⎤\n",
      "⎢       ⎥\n",
      "⎣0  0  0⎦\n",
      "⎡1  1⎤\n",
      "⎢    ⎥\n",
      "⎢1  1⎥\n",
      "⎢    ⎥\n",
      "⎣1  1⎦\n",
      "⎡-1  0  0  0⎤\n",
      "⎢           ⎥\n",
      "⎢0   1  1  0⎥\n",
      "⎢           ⎥\n",
      "⎢0   1  1  0⎥\n",
      "⎢           ⎥\n",
      "⎣0   0  0  1⎦\n"
     ]
    }
   ],
   "source": [
    "M = Matrix([[1, -1], [3, 4]])\n",
    "pprint(M**-1)                 # Inverse\n",
    "pprint(M.T)                   # Transpose\n",
    "pprint(eye(3))                # Identity 3x3\n",
    "pprint(zeros(2,3))            # zeros\n",
    "pprint(ones(3,2))             # ones\n",
    "pprint(diag(-1,ones(2,2),1))  # diagonal"
   ]
  },
  {
   "cell_type": "markdown",
   "metadata": {},
   "source": [
    "Finalment, els mètodes més avançats:\n",
    "* *det()*, determinant\n",
    "* *rref()*, forma esglaonada reduida (reduced row echelon form, llista d'índex columnes pivot)\n",
    "* *nullspace()*, espai null\n",
    "* *columnspace()*, espai columna\n",
    "* *eigenvals()*, valors propis (valor:multiplicitat)\n",
    "* *eigenvects()*, vectors propis (valor, multiplicitat, [vectors])\n",
    "* *diagonaliza()*, retorna dues matrius, P i D, tals que $P*D*P^{-1}$ és la matriu original"
   ]
  },
  {
   "cell_type": "code",
   "execution_count": 43,
   "metadata": {},
   "outputs": [
    {
     "data": {
      "image/png": "[encoded data removed]",
      "text/latex": [
       "$$11$$"
      ],
      "text/plain": [
       "11"
      ]
     },
     "execution_count": 43,
     "metadata": {},
     "output_type": "execute_result"
    }
   ],
   "source": [
    "M = Matrix([[2,1],[-1,5]])\n",
    "M.det()"
   ]
  },
  {
   "cell_type": "code",
   "execution_count": 44,
   "metadata": {},
   "outputs": [
    {
     "data": {
      "text/latex": [
       "$$\\left ( \\left[\\begin{matrix}1 & 0\\\\0 & 1\\end{matrix}\\right], \\quad \\left [ 0, \\quad 1\\right ]\\right )$$"
      ],
      "text/plain": [
       "⎛⎡1  0⎤, [0, 1]⎞\n",
       "⎜⎢    ⎥        ⎟\n",
       "⎝⎣0  1⎦        ⎠"
      ]
     },
     "execution_count": 44,
     "metadata": {},
     "output_type": "execute_result"
    }
   ],
   "source": [
    "M.rref()"
   ]
  },
  {
   "cell_type": "code",
   "execution_count": 59,
   "metadata": {},
   "outputs": [
    {
     "data": {
      "text/latex": [
       "$$\\left ( \\left [ \\right ], \\quad \\left [ \\left[\\begin{matrix}2\\\\-1\\end{matrix}\\right], \\quad \\left[\\begin{matrix}1\\\\5\\end{matrix}\\right]\\right ]\\right )$$"
      ],
      "text/plain": [
       "⎛[], ⎡⎡2 ⎤, ⎡1⎤⎤⎞\n",
       "⎜    ⎢⎢  ⎥  ⎢ ⎥⎥⎟\n",
       "⎝    ⎣⎣-1⎦  ⎣5⎦⎦⎠"
      ]
     },
     "execution_count": 59,
     "metadata": {},
     "output_type": "execute_result"
    }
   ],
   "source": [
    "M.nullspace(),M.columnspace()"
   ]
  },
  {
   "cell_type": "code",
   "execution_count": 60,
   "metadata": {},
   "outputs": [
    {
     "data": {
      "text/latex": [
       "$$\\left ( \\left \\{ - \\frac{\\sqrt{5}}{2} + \\frac{7}{2} : 1, \\quad \\frac{\\sqrt{5}}{2} + \\frac{7}{2} : 1\\right \\}, \\quad \\left [ \\left ( - \\frac{\\sqrt{5}}{2} + \\frac{7}{2}, \\quad 1, \\quad \\left [ \\left[\\begin{matrix}- \\frac{1}{- \\frac{3}{2} + \\frac{\\sqrt{5}}{2}}\\\\1\\end{matrix}\\right]\\right ]\\right ), \\quad \\left ( \\frac{\\sqrt{5}}{2} + \\frac{7}{2}, \\quad 1, \\quad \\left [ \\left[\\begin{matrix}- \\frac{1}{- \\frac{3}{2} - \\frac{\\sqrt{5}}{2}}\\\\1\\end{matrix}\\right]\\right ]\\right )\\right ]\\right )$$"
      ],
      "text/plain": [
       "⎛⎧  √5   7     √5   7   ⎫  ⎡⎛  √5   7     ⎡⎡  -1    ⎤⎤⎞  ⎛√5   7     ⎡⎡  -1   \n",
       "⎜⎨- ── + ─: 1, ── + ─: 1⎬, ⎢⎜- ── + ─, 1, ⎢⎢────────⎥⎥⎟, ⎜── + ─, 1, ⎢⎢───────\n",
       "⎜⎩  2    2     2    2   ⎭  ⎢⎜  2    2     ⎢⎢  3   √5⎥⎥⎟  ⎜2    2     ⎢⎢  3   √\n",
       "⎜                          ⎢⎜             ⎢⎢- ─ + ──⎥⎥⎟  ⎜           ⎢⎢- ─ - ─\n",
       "⎜                          ⎢⎜             ⎢⎢  2   2 ⎥⎥⎟  ⎜           ⎢⎢  2   2\n",
       "⎜                          ⎢⎜             ⎢⎢        ⎥⎥⎟  ⎜           ⎢⎢       \n",
       "⎝                          ⎣⎝             ⎣⎣   1    ⎦⎦⎠  ⎝           ⎣⎣   1   \n",
       "\n",
       " ⎤⎤⎞⎤⎞\n",
       "─⎥⎥⎟⎥⎟\n",
       "5⎥⎥⎟⎥⎟\n",
       "─⎥⎥⎟⎥⎟\n",
       " ⎥⎥⎟⎥⎟\n",
       " ⎥⎥⎟⎥⎟\n",
       " ⎦⎦⎠⎦⎠"
      ]
     },
     "execution_count": 60,
     "metadata": {},
     "output_type": "execute_result"
    }
   ],
   "source": [
    "M.eigenvals(),M.eigenvects()"
   ]
  },
  {
   "cell_type": "code",
   "execution_count": 49,
   "metadata": {},
   "outputs": [
    {
     "data": {
      "text/plain": [
       "True"
      ]
     },
     "execution_count": 49,
     "metadata": {},
     "output_type": "execute_result"
    }
   ],
   "source": [
    "P, D = M.diagonalize()\n",
    "simplify(P*D*P**-1)==M"
   ]
  },
  {
   "cell_type": "markdown",
   "metadata": {},
   "source": [
    "## Càlcul\n",
    "Les operacions de càlcul són bàsiques a SymPy"
   ]
  },
  {
   "cell_type": "markdown",
   "metadata": {},
   "source": [
    "### Límits"
   ]
  },
  {
   "cell_type": "code",
   "execution_count": 41,
   "metadata": {},
   "outputs": [
    {
     "name": "stdout",
     "output_type": "stream",
     "text": [
      "1\n",
      "1/2\n"
     ]
    }
   ],
   "source": [
    "x = symbols('x')\n",
    "print(limit(sin(x)/x, x, 0))\n",
    "print(limit(x/(2*x-1),x,oo))"
   ]
  },
  {
   "cell_type": "markdown",
   "metadata": {},
   "source": [
    "### Derivades"
   ]
  },
  {
   "cell_type": "code",
   "execution_count": 39,
   "metadata": {},
   "outputs": [
    {
     "name": "stdout",
     "output_type": "stream",
     "text": [
      "-sin(x)\n",
      "2*x*exp(x**2)\n"
     ]
    }
   ],
   "source": [
    "print(diff(cos(x), x))\n",
    "print(diff(exp(x**2), x))"
   ]
  },
  {
   "cell_type": "markdown",
   "metadata": {},
   "source": [
    "### Integrals"
   ]
  },
  {
   "cell_type": "code",
   "execution_count": 42,
   "metadata": {},
   "outputs": [
    {
     "name": "stdout",
     "output_type": "stream",
     "text": [
      "sin(x)\n",
      "1\n"
     ]
    }
   ],
   "source": [
    "print(integrate(cos(x), x))\n",
    "print(integrate(exp(-x), (x, 0, oo)))"
   ]
  },
  {
   "cell_type": "markdown",
   "metadata": {},
   "source": [
    "Quan no sap calcular-la retorna un objecte integral"
   ]
  },
  {
   "cell_type": "code",
   "execution_count": 44,
   "metadata": {},
   "outputs": [
    {
     "name": "stdout",
     "output_type": "stream",
     "text": [
      "Integral(x**x, x)\n"
     ]
    }
   ],
   "source": [
    "print(integrate(x**x, x))"
   ]
  },
  {
   "cell_type": "markdown",
   "metadata": {},
   "source": [
    "## MatPlotLib"
   ]
  },
  {
   "cell_type": "markdown",
   "metadata": {},
   "source": [
    "Matplotlib és el paquet gràfic bàsic. A més, hi ha diferents interfícies per a interactuar amb matplotlib, una versió interactiva de comandes funcionals i una versió orientada a objectes.\n",
    "Matplotlib és principalment per a dades 2D, però hi ha comandes bàsiques per a la representació 3D de superfícies (*mplot3d*)."
   ]
  },
  {
   "cell_type": "code",
   "execution_count": 22,
   "metadata": {
    "collapsed": true
   },
   "outputs": [],
   "source": [
    "%matplotlib inline\n",
    "import matplotlib.pyplot as plt\n",
    "from sympy import *"
   ]
  },
  {
   "cell_type": "markdown",
   "metadata": {},
   "source": [
    "*plot()* és la comanda bàsica:"
   ]
  },
  {
   "cell_type": "code",
   "execution_count": 32,
   "metadata": {},
   "outputs": [
    {
     "data": {
      "text/plain": [
       "(0, 6.2832)"
      ]
     },
     "execution_count": 32,
     "metadata": {},
     "output_type": "execute_result"
    },
    {
     "data": {
      "image/png": "[encoded data removed]",
      "text/plain": [
       "<matplotlib.figure.Figure at 0x1f6d1cf3550>"
      ]
     },
     "metadata": {},
     "output_type": "display_data"
    }
   ],
   "source": [
    "x = list(Matrix(range(0,700))/100.0)\n",
    "y = list(map(lambda x: cos(x),x))\n",
    "\n",
    "plt.plot(x,y)\n",
    "plt.xlabel(r\"$x$\")\n",
    "plt.ylabel(r\"$\\cos(x)$\", fontsize=\"x-large\")\n",
    "plt.xlim(0, 2.0*3.1416)"
   ]
  },
  {
   "cell_type": "markdown",
   "metadata": {},
   "source": [
    "podem traçar diverses línies i establir els seus colors o estils de línia"
   ]
  },
  {
   "cell_type": "code",
   "execution_count": 33,
   "metadata": {},
   "outputs": [
    {
     "data": {
      "text/plain": [
       "[<matplotlib.lines.Line2D at 0x1f6d512e588>]"
      ]
     },
     "execution_count": 33,
     "metadata": {},
     "output_type": "execute_result"
    },
    {
     "data": {
      "image/png": "[encoded data removed]",
      "text/plain": [
       "<matplotlib.figure.Figure at 0x1f6d512ef28>"
      ]
     },
     "metadata": {},
     "output_type": "display_data"
    }
   ],
   "source": [
    "plt.clf()\n",
    "plt.plot(x,list(map(lambda x: sin(x),x)), color=\"r\", linestyle=\":\")\n",
    "plt.plot(x,list(map(lambda x: cos(x),x)), \"b-\")"
   ]
  },
  {
   "cell_type": "markdown",
   "metadata": {},
   "source": [
    "podem utilitzar símbols en lloc de línies i etiquetar-les amb força facilitat "
   ]
  },
  {
   "cell_type": "code",
   "execution_count": 34,
   "metadata": {},
   "outputs": [
    {
     "data": {
      "text/plain": [
       "<matplotlib.legend.Legend at 0x1f6d0d05ef0>"
      ]
     },
     "execution_count": 34,
     "metadata": {},
     "output_type": "execute_result"
    },
    {
     "data": {
      "image/png": "[encoded data removed]",
      "text/plain": [
       "<matplotlib.figure.Figure at 0x1f6d65832e8>"
      ]
     },
     "metadata": {},
     "output_type": "display_data"
    }
   ],
   "source": [
    "plt.plot(x,list(map(lambda x: sin(x),x)), \"ro\", label=\"sine\")\n",
    "plt.plot(x, list(map(lambda x: cos(x),x)), \"bx\", label=\"cosine\")\n",
    "plt.xlim(0.0, 2.0*3.1416)\n",
    "plt.legend(frameon=False, loc=5)"
   ]
  }
 ],
 "metadata": {
  "anaconda-cloud": {},
  "kernelspec": {
   "display_name": "Python [default]",
   "language": "python",
   "name": "python3"
  },
  "language_info": {
   "codemirror_mode": {
    "name": "ipython",
    "version": 3
   },
   "file_extension": ".py",
   "mimetype": "text/x-python",
   "name": "python",
   "nbconvert_exporter": "python",
   "pygments_lexer": "ipython3",
   "version": "3.5.2"
  }
 },
 "nbformat": 4,
 "nbformat_minor": 1
}
